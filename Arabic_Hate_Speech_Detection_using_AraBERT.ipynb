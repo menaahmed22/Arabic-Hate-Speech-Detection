{
  "nbformat": 4,
  "nbformat_minor": 0,
  "metadata": {
    "colab": {
      "provenance": [],
      "gpuType": "T4",
      "collapsed_sections": [
        "GAfgUgHZwPyo"
      ]
    },
    "kernelspec": {
      "name": "python3",
      "display_name": "Python 3"
    },
    "language_info": {
      "name": "python"
    },
    "accelerator": "GPU"
  },
  "cells": [
    {
      "cell_type": "markdown",
      "source": [
        "###**NOTE**\n",
        "using Arabert preprocessor reduce accurracy"
      ],
      "metadata": {
        "id": "b_0q3M72HXM0"
      }
    },
    {
      "cell_type": "markdown",
      "source": [
        "\n",
        "\n",
        "\n",
        "# install transformer from huggingface"
      ],
      "metadata": {
        "id": "MvPyI5gfvaIJ"
      }
    },
    {
      "cell_type": "code",
      "execution_count": 1,
      "metadata": {
        "id": "J9s5Go9S4HZd",
        "colab": {
          "base_uri": "https://localhost:8080/"
        },
        "outputId": "e53abaa6-3f6b-4fa3-e6ef-0860efe9c78d"
      },
      "outputs": [
        {
          "output_type": "stream",
          "name": "stdout",
          "text": [
            "Requirement already satisfied: transformers in /usr/local/lib/python3.10/dist-packages (4.34.0)\n",
            "Requirement already satisfied: filelock in /usr/local/lib/python3.10/dist-packages (from transformers) (3.12.4)\n",
            "Requirement already satisfied: huggingface-hub<1.0,>=0.16.4 in /usr/local/lib/python3.10/dist-packages (from transformers) (0.17.3)\n",
            "Requirement already satisfied: numpy>=1.17 in /usr/local/lib/python3.10/dist-packages (from transformers) (1.23.5)\n",
            "Requirement already satisfied: packaging>=20.0 in /usr/local/lib/python3.10/dist-packages (from transformers) (23.2)\n",
            "Requirement already satisfied: pyyaml>=5.1 in /usr/local/lib/python3.10/dist-packages (from transformers) (6.0.1)\n",
            "Requirement already satisfied: regex!=2019.12.17 in /usr/local/lib/python3.10/dist-packages (from transformers) (2023.6.3)\n",
            "Requirement already satisfied: requests in /usr/local/lib/python3.10/dist-packages (from transformers) (2.31.0)\n",
            "Requirement already satisfied: tokenizers<0.15,>=0.14 in /usr/local/lib/python3.10/dist-packages (from transformers) (0.14.1)\n",
            "Requirement already satisfied: safetensors>=0.3.1 in /usr/local/lib/python3.10/dist-packages (from transformers) (0.4.0)\n",
            "Requirement already satisfied: tqdm>=4.27 in /usr/local/lib/python3.10/dist-packages (from transformers) (4.66.1)\n",
            "Requirement already satisfied: fsspec in /usr/local/lib/python3.10/dist-packages (from huggingface-hub<1.0,>=0.16.4->transformers) (2023.6.0)\n",
            "Requirement already satisfied: typing-extensions>=3.7.4.3 in /usr/local/lib/python3.10/dist-packages (from huggingface-hub<1.0,>=0.16.4->transformers) (4.5.0)\n",
            "Requirement already satisfied: charset-normalizer<4,>=2 in /usr/local/lib/python3.10/dist-packages (from requests->transformers) (3.3.0)\n",
            "Requirement already satisfied: idna<4,>=2.5 in /usr/local/lib/python3.10/dist-packages (from requests->transformers) (3.4)\n",
            "Requirement already satisfied: urllib3<3,>=1.21.1 in /usr/local/lib/python3.10/dist-packages (from requests->transformers) (2.0.6)\n",
            "Requirement already satisfied: certifi>=2017.4.17 in /usr/local/lib/python3.10/dist-packages (from requests->transformers) (2023.7.22)\n"
          ]
        }
      ],
      "source": [
        "pip install transformers #install transformer from hugging face\n"
      ]
    },
    {
      "cell_type": "code",
      "source": [
        "pip install arabert # install arabert"
      ],
      "metadata": {
        "colab": {
          "base_uri": "https://localhost:8080/"
        },
        "id": "uLdhhcRtsUc2",
        "outputId": "fb99b20a-097d-460b-99cf-c286ed09b010"
      },
      "execution_count": 2,
      "outputs": [
        {
          "output_type": "stream",
          "name": "stdout",
          "text": [
            "Requirement already satisfied: arabert in /usr/local/lib/python3.10/dist-packages (1.0.1)\n",
            "Requirement already satisfied: PyArabic in /usr/local/lib/python3.10/dist-packages (from arabert) (0.6.15)\n",
            "Requirement already satisfied: farasapy in /usr/local/lib/python3.10/dist-packages (from arabert) (0.0.14)\n",
            "Requirement already satisfied: emoji==1.4.2 in /usr/local/lib/python3.10/dist-packages (from arabert) (1.4.2)\n",
            "Requirement already satisfied: requests in /usr/local/lib/python3.10/dist-packages (from farasapy->arabert) (2.31.0)\n",
            "Requirement already satisfied: tqdm in /usr/local/lib/python3.10/dist-packages (from farasapy->arabert) (4.66.1)\n",
            "Requirement already satisfied: six>=1.14.0 in /usr/local/lib/python3.10/dist-packages (from PyArabic->arabert) (1.16.0)\n",
            "Requirement already satisfied: charset-normalizer<4,>=2 in /usr/local/lib/python3.10/dist-packages (from requests->farasapy->arabert) (3.3.0)\n",
            "Requirement already satisfied: idna<4,>=2.5 in /usr/local/lib/python3.10/dist-packages (from requests->farasapy->arabert) (3.4)\n",
            "Requirement already satisfied: urllib3<3,>=1.21.1 in /usr/local/lib/python3.10/dist-packages (from requests->farasapy->arabert) (2.0.6)\n",
            "Requirement already satisfied: certifi>=2017.4.17 in /usr/local/lib/python3.10/dist-packages (from requests->farasapy->arabert) (2023.7.22)\n"
          ]
        }
      ]
    },
    {
      "cell_type": "code",
      "source": [
        "# !pip install farasapy"
      ],
      "metadata": {
        "id": "sy0-EDtHsXmJ"
      },
      "execution_count": 3,
      "outputs": []
    },
    {
      "cell_type": "markdown",
      "source": [
        "# import libraries and models"
      ],
      "metadata": {
        "id": "Keje5Hvyvjs6"
      }
    },
    {
      "cell_type": "code",
      "source": [
        "import os\n",
        "import pandas as pd\n",
        "import re\n",
        "import nltk\n",
        "from nltk.corpus import stopwords\n",
        "\n",
        "from transformers import AutoTokenizer, TFBertForSequenceClassification\n",
        "import tensorflow as tf\n",
        "tf.random.set_seed(50) # To fix the intiallization\n"
      ],
      "metadata": {
        "id": "mCyZfjklAJ_g"
      },
      "execution_count": 4,
      "outputs": []
    },
    {
      "cell_type": "markdown",
      "source": [
        "# Load the pre-trained model and tokenizer\n"
      ],
      "metadata": {
        "id": "Z35iDgP_vsFX"
      }
    },
    {
      "cell_type": "code",
      "source": [
        "#load tokenizer and model from huggingface\n",
        "tokenizer = AutoTokenizer.from_pretrained(\"aubmindlab/bert-base-arabertv02\")\n",
        "model_1 = TFBertForSequenceClassification.from_pretrained(\"aubmindlab/bert-base-arabertv02\",num_labels =3) # dataset has three labels (positive ,nuetral and negative)"
      ],
      "metadata": {
        "id": "jF5hiBid_2-e",
        "colab": {
          "base_uri": "https://localhost:8080/"
        },
        "outputId": "74f7b45f-12ca-4669-dab1-86189fb9efb3"
      },
      "execution_count": 5,
      "outputs": [
        {
          "output_type": "stream",
          "name": "stderr",
          "text": [
            "Some weights of the PyTorch model were not used when initializing the TF 2.0 model TFBertForSequenceClassification: ['bert.embeddings.position_ids']\n",
            "- This IS expected if you are initializing TFBertForSequenceClassification from a PyTorch model trained on another task or with another architecture (e.g. initializing a TFBertForSequenceClassification model from a BertForPreTraining model).\n",
            "- This IS NOT expected if you are initializing TFBertForSequenceClassification from a PyTorch model that you expect to be exactly identical (e.g. initializing a TFBertForSequenceClassification model from a BertForSequenceClassification model).\n",
            "Some weights or buffers of the TF 2.0 model TFBertForSequenceClassification were not initialized from the PyTorch model and are newly initialized: ['classifier.weight', 'classifier.bias']\n",
            "You should probably TRAIN this model on a down-stream task to be able to use it for predictions and inference.\n"
          ]
        }
      ]
    },
    {
      "cell_type": "code",
      "source": [
        "# #import preprocessing library\n",
        "# from arabert.preprocess import ArabertPreprocessor\n",
        "\n",
        "# model_name = \"aubmindlab/bert-base-arabertv2\"\n",
        "# arabert_prep = ArabertPreprocessor(model_name=model_name)"
      ],
      "metadata": {
        "id": "Z0VpJoegsmdB"
      },
      "execution_count": 6,
      "outputs": []
    },
    {
      "cell_type": "markdown",
      "source": [
        "# load dataset and check it\n"
      ],
      "metadata": {
        "id": "J5nedl_Rvw4_"
      }
    },
    {
      "cell_type": "code",
      "source": [
        "read_train_data =pd.read_csv(\"train.csv\" ,encoding=\"utf-8\") #dataset  from kaggle\n",
        "read_test_data =pd.read_csv(\"test.csv\" ,encoding=\"utf-8\") #dataset  from kaggle\n"
      ],
      "metadata": {
        "id": "lq2yQAVt_9Zy"
      },
      "execution_count": 7,
      "outputs": []
    },
    {
      "cell_type": "code",
      "source": [
        "train_data=read_train_data\n",
        "test_data=read_test_data"
      ],
      "metadata": {
        "id": "icwgBJ-ytn6u"
      },
      "execution_count": 8,
      "outputs": []
    },
    {
      "cell_type": "code",
      "source": [
        "train_data.isnull().sum()\n",
        "train_data.dropna(inplace=True)\n",
        "test_data.isnull().sum()\n",
        "test_data.dropna(inplace=True)\n"
      ],
      "metadata": {
        "id": "71gtRFWVpDGU"
      },
      "execution_count": 9,
      "outputs": []
    },
    {
      "cell_type": "code",
      "source": [
        "train_data.head(10)"
      ],
      "metadata": {
        "id": "Ptmh6ZTMAB75",
        "colab": {
          "base_uri": "https://localhost:8080/",
          "height": 363
        },
        "outputId": "61cf581f-2570-42dc-f74c-9f5f7c46f170"
      },
      "execution_count": 10,
      "outputs": [
        {
          "output_type": "execute_result",
          "data": {
            "text/plain": [
              "                                               Tweet    Class\n",
              "0  وزير الخارجية اللبناني جبران باسيل قال في سلسل...   normal\n",
              "1          سورية بلد الحضارات تربطها بعلية او بحيوان   normal\n",
              "2  اخي الحاج اذا شعرت انك محرجا من الانتقادات لتص...   normal\n",
              "3  ما فيك تعيش بلا ما تكب فتن ليل نهار وبكرة قلهم...   normal\n",
              "4  هذا البطل الذي قاتل وجاذف بحياته لتحيا انت يا ...  abusive\n",
              "5  ولعها وهيك بتكون الشقيقة قدمت اكبر خدمة لشقيقت...   normal\n",
              "6  قبل ما تترحم وسام الحسن كان مشارك بقتل الحريري...   normal\n",
              "7            كلنا معك معالي الوزير الملك جبران باسيل   normal\n",
              "8  ولك مبارح أيها المريض النفسي كنت عم تدافع عن ا...   normal\n",
              "9  انو غريب يوجعك راسك القواتجية عادة بيكونو بلا راس     hate"
            ],
            "text/html": [
              "\n",
              "  <div id=\"df-63e74484-9ed3-435f-8eef-3130190f2015\" class=\"colab-df-container\">\n",
              "    <div>\n",
              "<style scoped>\n",
              "    .dataframe tbody tr th:only-of-type {\n",
              "        vertical-align: middle;\n",
              "    }\n",
              "\n",
              "    .dataframe tbody tr th {\n",
              "        vertical-align: top;\n",
              "    }\n",
              "\n",
              "    .dataframe thead th {\n",
              "        text-align: right;\n",
              "    }\n",
              "</style>\n",
              "<table border=\"1\" class=\"dataframe\">\n",
              "  <thead>\n",
              "    <tr style=\"text-align: right;\">\n",
              "      <th></th>\n",
              "      <th>Tweet</th>\n",
              "      <th>Class</th>\n",
              "    </tr>\n",
              "  </thead>\n",
              "  <tbody>\n",
              "    <tr>\n",
              "      <th>0</th>\n",
              "      <td>وزير الخارجية اللبناني جبران باسيل قال في سلسل...</td>\n",
              "      <td>normal</td>\n",
              "    </tr>\n",
              "    <tr>\n",
              "      <th>1</th>\n",
              "      <td>سورية بلد الحضارات تربطها بعلية او بحيوان</td>\n",
              "      <td>normal</td>\n",
              "    </tr>\n",
              "    <tr>\n",
              "      <th>2</th>\n",
              "      <td>اخي الحاج اذا شعرت انك محرجا من الانتقادات لتص...</td>\n",
              "      <td>normal</td>\n",
              "    </tr>\n",
              "    <tr>\n",
              "      <th>3</th>\n",
              "      <td>ما فيك تعيش بلا ما تكب فتن ليل نهار وبكرة قلهم...</td>\n",
              "      <td>normal</td>\n",
              "    </tr>\n",
              "    <tr>\n",
              "      <th>4</th>\n",
              "      <td>هذا البطل الذي قاتل وجاذف بحياته لتحيا انت يا ...</td>\n",
              "      <td>abusive</td>\n",
              "    </tr>\n",
              "    <tr>\n",
              "      <th>5</th>\n",
              "      <td>ولعها وهيك بتكون الشقيقة قدمت اكبر خدمة لشقيقت...</td>\n",
              "      <td>normal</td>\n",
              "    </tr>\n",
              "    <tr>\n",
              "      <th>6</th>\n",
              "      <td>قبل ما تترحم وسام الحسن كان مشارك بقتل الحريري...</td>\n",
              "      <td>normal</td>\n",
              "    </tr>\n",
              "    <tr>\n",
              "      <th>7</th>\n",
              "      <td>كلنا معك معالي الوزير الملك جبران باسيل</td>\n",
              "      <td>normal</td>\n",
              "    </tr>\n",
              "    <tr>\n",
              "      <th>8</th>\n",
              "      <td>ولك مبارح أيها المريض النفسي كنت عم تدافع عن ا...</td>\n",
              "      <td>normal</td>\n",
              "    </tr>\n",
              "    <tr>\n",
              "      <th>9</th>\n",
              "      <td>انو غريب يوجعك راسك القواتجية عادة بيكونو بلا راس</td>\n",
              "      <td>hate</td>\n",
              "    </tr>\n",
              "  </tbody>\n",
              "</table>\n",
              "</div>\n",
              "    <div class=\"colab-df-buttons\">\n",
              "\n",
              "  <div class=\"colab-df-container\">\n",
              "    <button class=\"colab-df-convert\" onclick=\"convertToInteractive('df-63e74484-9ed3-435f-8eef-3130190f2015')\"\n",
              "            title=\"Convert this dataframe to an interactive table.\"\n",
              "            style=\"display:none;\">\n",
              "\n",
              "  <svg xmlns=\"http://www.w3.org/2000/svg\" height=\"24px\" viewBox=\"0 -960 960 960\">\n",
              "    <path d=\"M120-120v-720h720v720H120Zm60-500h600v-160H180v160Zm220 220h160v-160H400v160Zm0 220h160v-160H400v160ZM180-400h160v-160H180v160Zm440 0h160v-160H620v160ZM180-180h160v-160H180v160Zm440 0h160v-160H620v160Z\"/>\n",
              "  </svg>\n",
              "    </button>\n",
              "\n",
              "  <style>\n",
              "    .colab-df-container {\n",
              "      display:flex;\n",
              "      gap: 12px;\n",
              "    }\n",
              "\n",
              "    .colab-df-convert {\n",
              "      background-color: #E8F0FE;\n",
              "      border: none;\n",
              "      border-radius: 50%;\n",
              "      cursor: pointer;\n",
              "      display: none;\n",
              "      fill: #1967D2;\n",
              "      height: 32px;\n",
              "      padding: 0 0 0 0;\n",
              "      width: 32px;\n",
              "    }\n",
              "\n",
              "    .colab-df-convert:hover {\n",
              "      background-color: #E2EBFA;\n",
              "      box-shadow: 0px 1px 2px rgba(60, 64, 67, 0.3), 0px 1px 3px 1px rgba(60, 64, 67, 0.15);\n",
              "      fill: #174EA6;\n",
              "    }\n",
              "\n",
              "    .colab-df-buttons div {\n",
              "      margin-bottom: 4px;\n",
              "    }\n",
              "\n",
              "    [theme=dark] .colab-df-convert {\n",
              "      background-color: #3B4455;\n",
              "      fill: #D2E3FC;\n",
              "    }\n",
              "\n",
              "    [theme=dark] .colab-df-convert:hover {\n",
              "      background-color: #434B5C;\n",
              "      box-shadow: 0px 1px 3px 1px rgba(0, 0, 0, 0.15);\n",
              "      filter: drop-shadow(0px 1px 2px rgba(0, 0, 0, 0.3));\n",
              "      fill: #FFFFFF;\n",
              "    }\n",
              "  </style>\n",
              "\n",
              "    <script>\n",
              "      const buttonEl =\n",
              "        document.querySelector('#df-63e74484-9ed3-435f-8eef-3130190f2015 button.colab-df-convert');\n",
              "      buttonEl.style.display =\n",
              "        google.colab.kernel.accessAllowed ? 'block' : 'none';\n",
              "\n",
              "      async function convertToInteractive(key) {\n",
              "        const element = document.querySelector('#df-63e74484-9ed3-435f-8eef-3130190f2015');\n",
              "        const dataTable =\n",
              "          await google.colab.kernel.invokeFunction('convertToInteractive',\n",
              "                                                    [key], {});\n",
              "        if (!dataTable) return;\n",
              "\n",
              "        const docLinkHtml = 'Like what you see? Visit the ' +\n",
              "          '<a target=\"_blank\" href=https://colab.research.google.com/notebooks/data_table.ipynb>data table notebook</a>'\n",
              "          + ' to learn more about interactive tables.';\n",
              "        element.innerHTML = '';\n",
              "        dataTable['output_type'] = 'display_data';\n",
              "        await google.colab.output.renderOutput(dataTable, element);\n",
              "        const docLink = document.createElement('div');\n",
              "        docLink.innerHTML = docLinkHtml;\n",
              "        element.appendChild(docLink);\n",
              "      }\n",
              "    </script>\n",
              "  </div>\n",
              "\n",
              "\n",
              "<div id=\"df-115f9925-8999-4dfc-ba86-c9859b9d94b8\">\n",
              "  <button class=\"colab-df-quickchart\" onclick=\"quickchart('df-115f9925-8999-4dfc-ba86-c9859b9d94b8')\"\n",
              "            title=\"Suggest charts.\"\n",
              "            style=\"display:none;\">\n",
              "\n",
              "<svg xmlns=\"http://www.w3.org/2000/svg\" height=\"24px\"viewBox=\"0 0 24 24\"\n",
              "     width=\"24px\">\n",
              "    <g>\n",
              "        <path d=\"M19 3H5c-1.1 0-2 .9-2 2v14c0 1.1.9 2 2 2h14c1.1 0 2-.9 2-2V5c0-1.1-.9-2-2-2zM9 17H7v-7h2v7zm4 0h-2V7h2v10zm4 0h-2v-4h2v4z\"/>\n",
              "    </g>\n",
              "</svg>\n",
              "  </button>\n",
              "\n",
              "<style>\n",
              "  .colab-df-quickchart {\n",
              "      --bg-color: #E8F0FE;\n",
              "      --fill-color: #1967D2;\n",
              "      --hover-bg-color: #E2EBFA;\n",
              "      --hover-fill-color: #174EA6;\n",
              "      --disabled-fill-color: #AAA;\n",
              "      --disabled-bg-color: #DDD;\n",
              "  }\n",
              "\n",
              "  [theme=dark] .colab-df-quickchart {\n",
              "      --bg-color: #3B4455;\n",
              "      --fill-color: #D2E3FC;\n",
              "      --hover-bg-color: #434B5C;\n",
              "      --hover-fill-color: #FFFFFF;\n",
              "      --disabled-bg-color: #3B4455;\n",
              "      --disabled-fill-color: #666;\n",
              "  }\n",
              "\n",
              "  .colab-df-quickchart {\n",
              "    background-color: var(--bg-color);\n",
              "    border: none;\n",
              "    border-radius: 50%;\n",
              "    cursor: pointer;\n",
              "    display: none;\n",
              "    fill: var(--fill-color);\n",
              "    height: 32px;\n",
              "    padding: 0;\n",
              "    width: 32px;\n",
              "  }\n",
              "\n",
              "  .colab-df-quickchart:hover {\n",
              "    background-color: var(--hover-bg-color);\n",
              "    box-shadow: 0 1px 2px rgba(60, 64, 67, 0.3), 0 1px 3px 1px rgba(60, 64, 67, 0.15);\n",
              "    fill: var(--button-hover-fill-color);\n",
              "  }\n",
              "\n",
              "  .colab-df-quickchart-complete:disabled,\n",
              "  .colab-df-quickchart-complete:disabled:hover {\n",
              "    background-color: var(--disabled-bg-color);\n",
              "    fill: var(--disabled-fill-color);\n",
              "    box-shadow: none;\n",
              "  }\n",
              "\n",
              "  .colab-df-spinner {\n",
              "    border: 2px solid var(--fill-color);\n",
              "    border-color: transparent;\n",
              "    border-bottom-color: var(--fill-color);\n",
              "    animation:\n",
              "      spin 1s steps(1) infinite;\n",
              "  }\n",
              "\n",
              "  @keyframes spin {\n",
              "    0% {\n",
              "      border-color: transparent;\n",
              "      border-bottom-color: var(--fill-color);\n",
              "      border-left-color: var(--fill-color);\n",
              "    }\n",
              "    20% {\n",
              "      border-color: transparent;\n",
              "      border-left-color: var(--fill-color);\n",
              "      border-top-color: var(--fill-color);\n",
              "    }\n",
              "    30% {\n",
              "      border-color: transparent;\n",
              "      border-left-color: var(--fill-color);\n",
              "      border-top-color: var(--fill-color);\n",
              "      border-right-color: var(--fill-color);\n",
              "    }\n",
              "    40% {\n",
              "      border-color: transparent;\n",
              "      border-right-color: var(--fill-color);\n",
              "      border-top-color: var(--fill-color);\n",
              "    }\n",
              "    60% {\n",
              "      border-color: transparent;\n",
              "      border-right-color: var(--fill-color);\n",
              "    }\n",
              "    80% {\n",
              "      border-color: transparent;\n",
              "      border-right-color: var(--fill-color);\n",
              "      border-bottom-color: var(--fill-color);\n",
              "    }\n",
              "    90% {\n",
              "      border-color: transparent;\n",
              "      border-bottom-color: var(--fill-color);\n",
              "    }\n",
              "  }\n",
              "</style>\n",
              "\n",
              "  <script>\n",
              "    async function quickchart(key) {\n",
              "      const quickchartButtonEl =\n",
              "        document.querySelector('#' + key + ' button');\n",
              "      quickchartButtonEl.disabled = true;  // To prevent multiple clicks.\n",
              "      quickchartButtonEl.classList.add('colab-df-spinner');\n",
              "      try {\n",
              "        const charts = await google.colab.kernel.invokeFunction(\n",
              "            'suggestCharts', [key], {});\n",
              "      } catch (error) {\n",
              "        console.error('Error during call to suggestCharts:', error);\n",
              "      }\n",
              "      quickchartButtonEl.classList.remove('colab-df-spinner');\n",
              "      quickchartButtonEl.classList.add('colab-df-quickchart-complete');\n",
              "    }\n",
              "    (() => {\n",
              "      let quickchartButtonEl =\n",
              "        document.querySelector('#df-115f9925-8999-4dfc-ba86-c9859b9d94b8 button');\n",
              "      quickchartButtonEl.style.display =\n",
              "        google.colab.kernel.accessAllowed ? 'block' : 'none';\n",
              "    })();\n",
              "  </script>\n",
              "</div>\n",
              "    </div>\n",
              "  </div>\n"
            ]
          },
          "metadata": {},
          "execution_count": 10
        }
      ]
    },
    {
      "cell_type": "code",
      "source": [
        "test_data.head(10)"
      ],
      "metadata": {
        "colab": {
          "base_uri": "https://localhost:8080/",
          "height": 363
        },
        "id": "t7JDMT2jQ2AV",
        "outputId": "f0fa26ae-a3e3-47d0-e1c9-43db9f47bc17"
      },
      "execution_count": 11,
      "outputs": [
        {
          "output_type": "execute_result",
          "data": {
            "text/plain": [
              "                                               Tweet    Class\n",
              "0  وحاج حكي مثاليات وامه ومابعرف شو ،اخر هم عندكم...   normal\n",
              "1                                 قطر مرادف الارهاب      hate\n",
              "2  ارمني يوناني يحمل جنسية المانية من مواليد سوري...     hate\n",
              "3                             يا حمار قمة يعني زبالة  abusive\n",
              "4        ما حدا غير يلي خلفتك عاهرة يا منحط يا سافل   abusive\n",
              "5  قال جبران باسيل انو أمير قطر كسر الحصار على قط...   normal\n",
              "6  صدقت ياصوت لبنان الحر العابق بالنضال والوطنية ...   normal\n",
              "7  متابعةً لزيارة الوزير جبران باسيل الى وارسو، ع...   normal\n",
              "8      عودة المياه إلى مجاريرها بين سوريا و الإمارات   normal\n",
              "9                        هي بتنطبق عليك وزير الصدفه    normal"
            ],
            "text/html": [
              "\n",
              "  <div id=\"df-e8eb7944-88e2-40c4-979a-00e26373232e\" class=\"colab-df-container\">\n",
              "    <div>\n",
              "<style scoped>\n",
              "    .dataframe tbody tr th:only-of-type {\n",
              "        vertical-align: middle;\n",
              "    }\n",
              "\n",
              "    .dataframe tbody tr th {\n",
              "        vertical-align: top;\n",
              "    }\n",
              "\n",
              "    .dataframe thead th {\n",
              "        text-align: right;\n",
              "    }\n",
              "</style>\n",
              "<table border=\"1\" class=\"dataframe\">\n",
              "  <thead>\n",
              "    <tr style=\"text-align: right;\">\n",
              "      <th></th>\n",
              "      <th>Tweet</th>\n",
              "      <th>Class</th>\n",
              "    </tr>\n",
              "  </thead>\n",
              "  <tbody>\n",
              "    <tr>\n",
              "      <th>0</th>\n",
              "      <td>وحاج حكي مثاليات وامه ومابعرف شو ،اخر هم عندكم...</td>\n",
              "      <td>normal</td>\n",
              "    </tr>\n",
              "    <tr>\n",
              "      <th>1</th>\n",
              "      <td>قطر مرادف الارهاب</td>\n",
              "      <td>hate</td>\n",
              "    </tr>\n",
              "    <tr>\n",
              "      <th>2</th>\n",
              "      <td>ارمني يوناني يحمل جنسية المانية من مواليد سوري...</td>\n",
              "      <td>hate</td>\n",
              "    </tr>\n",
              "    <tr>\n",
              "      <th>3</th>\n",
              "      <td>يا حمار قمة يعني زبالة</td>\n",
              "      <td>abusive</td>\n",
              "    </tr>\n",
              "    <tr>\n",
              "      <th>4</th>\n",
              "      <td>ما حدا غير يلي خلفتك عاهرة يا منحط يا سافل</td>\n",
              "      <td>abusive</td>\n",
              "    </tr>\n",
              "    <tr>\n",
              "      <th>5</th>\n",
              "      <td>قال جبران باسيل انو أمير قطر كسر الحصار على قط...</td>\n",
              "      <td>normal</td>\n",
              "    </tr>\n",
              "    <tr>\n",
              "      <th>6</th>\n",
              "      <td>صدقت ياصوت لبنان الحر العابق بالنضال والوطنية ...</td>\n",
              "      <td>normal</td>\n",
              "    </tr>\n",
              "    <tr>\n",
              "      <th>7</th>\n",
              "      <td>متابعةً لزيارة الوزير جبران باسيل الى وارسو، ع...</td>\n",
              "      <td>normal</td>\n",
              "    </tr>\n",
              "    <tr>\n",
              "      <th>8</th>\n",
              "      <td>عودة المياه إلى مجاريرها بين سوريا و الإمارات</td>\n",
              "      <td>normal</td>\n",
              "    </tr>\n",
              "    <tr>\n",
              "      <th>9</th>\n",
              "      <td>هي بتنطبق عليك وزير الصدفه</td>\n",
              "      <td>normal</td>\n",
              "    </tr>\n",
              "  </tbody>\n",
              "</table>\n",
              "</div>\n",
              "    <div class=\"colab-df-buttons\">\n",
              "\n",
              "  <div class=\"colab-df-container\">\n",
              "    <button class=\"colab-df-convert\" onclick=\"convertToInteractive('df-e8eb7944-88e2-40c4-979a-00e26373232e')\"\n",
              "            title=\"Convert this dataframe to an interactive table.\"\n",
              "            style=\"display:none;\">\n",
              "\n",
              "  <svg xmlns=\"http://www.w3.org/2000/svg\" height=\"24px\" viewBox=\"0 -960 960 960\">\n",
              "    <path d=\"M120-120v-720h720v720H120Zm60-500h600v-160H180v160Zm220 220h160v-160H400v160Zm0 220h160v-160H400v160ZM180-400h160v-160H180v160Zm440 0h160v-160H620v160ZM180-180h160v-160H180v160Zm440 0h160v-160H620v160Z\"/>\n",
              "  </svg>\n",
              "    </button>\n",
              "\n",
              "  <style>\n",
              "    .colab-df-container {\n",
              "      display:flex;\n",
              "      gap: 12px;\n",
              "    }\n",
              "\n",
              "    .colab-df-convert {\n",
              "      background-color: #E8F0FE;\n",
              "      border: none;\n",
              "      border-radius: 50%;\n",
              "      cursor: pointer;\n",
              "      display: none;\n",
              "      fill: #1967D2;\n",
              "      height: 32px;\n",
              "      padding: 0 0 0 0;\n",
              "      width: 32px;\n",
              "    }\n",
              "\n",
              "    .colab-df-convert:hover {\n",
              "      background-color: #E2EBFA;\n",
              "      box-shadow: 0px 1px 2px rgba(60, 64, 67, 0.3), 0px 1px 3px 1px rgba(60, 64, 67, 0.15);\n",
              "      fill: #174EA6;\n",
              "    }\n",
              "\n",
              "    .colab-df-buttons div {\n",
              "      margin-bottom: 4px;\n",
              "    }\n",
              "\n",
              "    [theme=dark] .colab-df-convert {\n",
              "      background-color: #3B4455;\n",
              "      fill: #D2E3FC;\n",
              "    }\n",
              "\n",
              "    [theme=dark] .colab-df-convert:hover {\n",
              "      background-color: #434B5C;\n",
              "      box-shadow: 0px 1px 3px 1px rgba(0, 0, 0, 0.15);\n",
              "      filter: drop-shadow(0px 1px 2px rgba(0, 0, 0, 0.3));\n",
              "      fill: #FFFFFF;\n",
              "    }\n",
              "  </style>\n",
              "\n",
              "    <script>\n",
              "      const buttonEl =\n",
              "        document.querySelector('#df-e8eb7944-88e2-40c4-979a-00e26373232e button.colab-df-convert');\n",
              "      buttonEl.style.display =\n",
              "        google.colab.kernel.accessAllowed ? 'block' : 'none';\n",
              "\n",
              "      async function convertToInteractive(key) {\n",
              "        const element = document.querySelector('#df-e8eb7944-88e2-40c4-979a-00e26373232e');\n",
              "        const dataTable =\n",
              "          await google.colab.kernel.invokeFunction('convertToInteractive',\n",
              "                                                    [key], {});\n",
              "        if (!dataTable) return;\n",
              "\n",
              "        const docLinkHtml = 'Like what you see? Visit the ' +\n",
              "          '<a target=\"_blank\" href=https://colab.research.google.com/notebooks/data_table.ipynb>data table notebook</a>'\n",
              "          + ' to learn more about interactive tables.';\n",
              "        element.innerHTML = '';\n",
              "        dataTable['output_type'] = 'display_data';\n",
              "        await google.colab.output.renderOutput(dataTable, element);\n",
              "        const docLink = document.createElement('div');\n",
              "        docLink.innerHTML = docLinkHtml;\n",
              "        element.appendChild(docLink);\n",
              "      }\n",
              "    </script>\n",
              "  </div>\n",
              "\n",
              "\n",
              "<div id=\"df-b39fde7a-0349-4153-a902-dc0c31064ad8\">\n",
              "  <button class=\"colab-df-quickchart\" onclick=\"quickchart('df-b39fde7a-0349-4153-a902-dc0c31064ad8')\"\n",
              "            title=\"Suggest charts.\"\n",
              "            style=\"display:none;\">\n",
              "\n",
              "<svg xmlns=\"http://www.w3.org/2000/svg\" height=\"24px\"viewBox=\"0 0 24 24\"\n",
              "     width=\"24px\">\n",
              "    <g>\n",
              "        <path d=\"M19 3H5c-1.1 0-2 .9-2 2v14c0 1.1.9 2 2 2h14c1.1 0 2-.9 2-2V5c0-1.1-.9-2-2-2zM9 17H7v-7h2v7zm4 0h-2V7h2v10zm4 0h-2v-4h2v4z\"/>\n",
              "    </g>\n",
              "</svg>\n",
              "  </button>\n",
              "\n",
              "<style>\n",
              "  .colab-df-quickchart {\n",
              "      --bg-color: #E8F0FE;\n",
              "      --fill-color: #1967D2;\n",
              "      --hover-bg-color: #E2EBFA;\n",
              "      --hover-fill-color: #174EA6;\n",
              "      --disabled-fill-color: #AAA;\n",
              "      --disabled-bg-color: #DDD;\n",
              "  }\n",
              "\n",
              "  [theme=dark] .colab-df-quickchart {\n",
              "      --bg-color: #3B4455;\n",
              "      --fill-color: #D2E3FC;\n",
              "      --hover-bg-color: #434B5C;\n",
              "      --hover-fill-color: #FFFFFF;\n",
              "      --disabled-bg-color: #3B4455;\n",
              "      --disabled-fill-color: #666;\n",
              "  }\n",
              "\n",
              "  .colab-df-quickchart {\n",
              "    background-color: var(--bg-color);\n",
              "    border: none;\n",
              "    border-radius: 50%;\n",
              "    cursor: pointer;\n",
              "    display: none;\n",
              "    fill: var(--fill-color);\n",
              "    height: 32px;\n",
              "    padding: 0;\n",
              "    width: 32px;\n",
              "  }\n",
              "\n",
              "  .colab-df-quickchart:hover {\n",
              "    background-color: var(--hover-bg-color);\n",
              "    box-shadow: 0 1px 2px rgba(60, 64, 67, 0.3), 0 1px 3px 1px rgba(60, 64, 67, 0.15);\n",
              "    fill: var(--button-hover-fill-color);\n",
              "  }\n",
              "\n",
              "  .colab-df-quickchart-complete:disabled,\n",
              "  .colab-df-quickchart-complete:disabled:hover {\n",
              "    background-color: var(--disabled-bg-color);\n",
              "    fill: var(--disabled-fill-color);\n",
              "    box-shadow: none;\n",
              "  }\n",
              "\n",
              "  .colab-df-spinner {\n",
              "    border: 2px solid var(--fill-color);\n",
              "    border-color: transparent;\n",
              "    border-bottom-color: var(--fill-color);\n",
              "    animation:\n",
              "      spin 1s steps(1) infinite;\n",
              "  }\n",
              "\n",
              "  @keyframes spin {\n",
              "    0% {\n",
              "      border-color: transparent;\n",
              "      border-bottom-color: var(--fill-color);\n",
              "      border-left-color: var(--fill-color);\n",
              "    }\n",
              "    20% {\n",
              "      border-color: transparent;\n",
              "      border-left-color: var(--fill-color);\n",
              "      border-top-color: var(--fill-color);\n",
              "    }\n",
              "    30% {\n",
              "      border-color: transparent;\n",
              "      border-left-color: var(--fill-color);\n",
              "      border-top-color: var(--fill-color);\n",
              "      border-right-color: var(--fill-color);\n",
              "    }\n",
              "    40% {\n",
              "      border-color: transparent;\n",
              "      border-right-color: var(--fill-color);\n",
              "      border-top-color: var(--fill-color);\n",
              "    }\n",
              "    60% {\n",
              "      border-color: transparent;\n",
              "      border-right-color: var(--fill-color);\n",
              "    }\n",
              "    80% {\n",
              "      border-color: transparent;\n",
              "      border-right-color: var(--fill-color);\n",
              "      border-bottom-color: var(--fill-color);\n",
              "    }\n",
              "    90% {\n",
              "      border-color: transparent;\n",
              "      border-bottom-color: var(--fill-color);\n",
              "    }\n",
              "  }\n",
              "</style>\n",
              "\n",
              "  <script>\n",
              "    async function quickchart(key) {\n",
              "      const quickchartButtonEl =\n",
              "        document.querySelector('#' + key + ' button');\n",
              "      quickchartButtonEl.disabled = true;  // To prevent multiple clicks.\n",
              "      quickchartButtonEl.classList.add('colab-df-spinner');\n",
              "      try {\n",
              "        const charts = await google.colab.kernel.invokeFunction(\n",
              "            'suggestCharts', [key], {});\n",
              "      } catch (error) {\n",
              "        console.error('Error during call to suggestCharts:', error);\n",
              "      }\n",
              "      quickchartButtonEl.classList.remove('colab-df-spinner');\n",
              "      quickchartButtonEl.classList.add('colab-df-quickchart-complete');\n",
              "    }\n",
              "    (() => {\n",
              "      let quickchartButtonEl =\n",
              "        document.querySelector('#df-b39fde7a-0349-4153-a902-dc0c31064ad8 button');\n",
              "      quickchartButtonEl.style.display =\n",
              "        google.colab.kernel.accessAllowed ? 'block' : 'none';\n",
              "    })();\n",
              "  </script>\n",
              "</div>\n",
              "    </div>\n",
              "  </div>\n"
            ]
          },
          "metadata": {},
          "execution_count": 11
        }
      ]
    },
    {
      "cell_type": "code",
      "source": [
        "#splitting train dataset to train and validation sets\n",
        "train_text=train_data['Tweet']\n",
        "train_text\n",
        "train_text.info()"
      ],
      "metadata": {
        "id": "b5OkmGXVA9xe",
        "colab": {
          "base_uri": "https://localhost:8080/"
        },
        "outputId": "3e43f2c5-acb1-4f47-df54-dbf3f69d8492"
      },
      "execution_count": 12,
      "outputs": [
        {
          "output_type": "stream",
          "name": "stdout",
          "text": [
            "<class 'pandas.core.series.Series'>\n",
            "RangeIndex: 4676 entries, 0 to 4675\n",
            "Series name: Tweet\n",
            "Non-Null Count  Dtype \n",
            "--------------  ----- \n",
            "4676 non-null   object\n",
            "dtypes: object(1)\n",
            "memory usage: 36.7+ KB\n"
          ]
        }
      ]
    },
    {
      "cell_type": "code",
      "source": [
        "#splitting train dataset to train and validation sets\n",
        "test_text=test_data['Tweet']\n",
        "# train_text=train_data\n",
        "test_text\n",
        "test_text.info()"
      ],
      "metadata": {
        "colab": {
          "base_uri": "https://localhost:8080/"
        },
        "id": "JL_w220cRlQc",
        "outputId": "1478e47b-7fb2-4879-c25c-677265d85d5d"
      },
      "execution_count": 13,
      "outputs": [
        {
          "output_type": "stream",
          "name": "stdout",
          "text": [
            "<class 'pandas.core.series.Series'>\n",
            "RangeIndex: 1170 entries, 0 to 1169\n",
            "Series name: Tweet\n",
            "Non-Null Count  Dtype \n",
            "--------------  ----- \n",
            "1170 non-null   object\n",
            "dtypes: object(1)\n",
            "memory usage: 9.3+ KB\n"
          ]
        }
      ]
    },
    {
      "cell_type": "code",
      "source": [
        "train_data['Class'].replace({'normal':0,'abusive':1,'hate':2},inplace=True)\n",
        "\n",
        "train_labels=train_data['Class']\n"
      ],
      "metadata": {
        "id": "wkHS6qj4pKPi"
      },
      "execution_count": 14,
      "outputs": []
    },
    {
      "cell_type": "code",
      "source": [
        "train_labels.unique()"
      ],
      "metadata": {
        "colab": {
          "base_uri": "https://localhost:8080/"
        },
        "id": "Oa1i0oDHUO1x",
        "outputId": "e54fbbd3-6f8e-4577-dfd3-420e5e119d8d"
      },
      "execution_count": 15,
      "outputs": [
        {
          "output_type": "execute_result",
          "data": {
            "text/plain": [
              "array([0, 1, 2])"
            ]
          },
          "metadata": {},
          "execution_count": 15
        }
      ]
    },
    {
      "cell_type": "code",
      "source": [
        "test_data['Class'].replace({'normal':0,'abusive':1,'hate':2},inplace=True)\n",
        "\n",
        "test_labels=test_data['Class']\n",
        "# test_labels = test_labels.astype(float)\n"
      ],
      "metadata": {
        "id": "glKnFOsbRrp6"
      },
      "execution_count": 16,
      "outputs": []
    },
    {
      "cell_type": "code",
      "source": [
        "count_values_train=train_data['Class'].value_counts()\n",
        "count_values_test=test_data['Class'].value_counts()\n",
        "print(count_values_train)\n",
        "print(count_values_test)\n",
        "\n"
      ],
      "metadata": {
        "colab": {
          "base_uri": "https://localhost:8080/"
        },
        "id": "7M8jnx5GwIWL",
        "outputId": "fdb10b1c-3e8c-4b03-b3da-237710d88b87"
      },
      "execution_count": 17,
      "outputs": [
        {
          "output_type": "stream",
          "name": "stdout",
          "text": [
            "0    2920\n",
            "1    1382\n",
            "2     374\n",
            "Name: Class, dtype: int64\n",
            "0    730\n",
            "1    346\n",
            "2     94\n",
            "Name: Class, dtype: int64\n"
          ]
        }
      ]
    },
    {
      "cell_type": "code",
      "source": [
        "import matplotlib.pyplot as plt\n",
        "plt.figure()  # Adjust the figure size\n",
        "count_values_train.plot(kind='bar')\n",
        "plt.xlabel('class_rate')\n",
        "plt.ylabel('number')\n",
        "plt.title('count of class for traing dataset ')\n",
        "plt.show()"
      ],
      "metadata": {
        "colab": {
          "base_uri": "https://localhost:8080/",
          "height": 467
        },
        "id": "L2vnSUTVuHY9",
        "outputId": "048527cb-49b4-49ac-8976-8ff9182df410"
      },
      "execution_count": 18,
      "outputs": [
        {
          "output_type": "display_data",
          "data": {
            "text/plain": [
              "<Figure size 640x480 with 1 Axes>"
            ],
            "image/png": "[encoded data removed]"
          },
          "metadata": {}
        }
      ]
    },
    {
      "cell_type": "code",
      "source": [
        "import matplotlib.pyplot as plt\n",
        "plt.figure()  # Adjust the figure size\n",
        "count_values_test.plot(kind='bar')\n",
        "plt.xlabel('class_rate')\n",
        "plt.ylabel('number')\n",
        "plt.title('count of class for testing dataset ')\n",
        "plt.show()"
      ],
      "metadata": {
        "colab": {
          "base_uri": "https://localhost:8080/",
          "height": 467
        },
        "id": "AGOVs3Y0uhIq",
        "outputId": "b20924d0-536d-4f15-aa50-cf393fe107a8"
      },
      "execution_count": 19,
      "outputs": [
        {
          "output_type": "display_data",
          "data": {
            "text/plain": [
              "<Figure size 640x480 with 1 Axes>"
            ],
            "image/png": "[encoded data removed]"
          },
          "metadata": {}
        }
      ]
    },
    {
      "cell_type": "code",
      "source": [
        "print(type(train_text))"
      ],
      "metadata": {
        "id": "BV-hIQiECPi9",
        "colab": {
          "base_uri": "https://localhost:8080/"
        },
        "outputId": "1b7e755d-9d30-4994-e0cf-c985c821b2a2"
      },
      "execution_count": 20,
      "outputs": [
        {
          "output_type": "stream",
          "name": "stdout",
          "text": [
            "<class 'pandas.core.series.Series'>\n"
          ]
        }
      ]
    },
    {
      "cell_type": "code",
      "source": [
        "#convert labels to tensors\n",
        "train_labels = tf.constant(train_labels)"
      ],
      "metadata": {
        "id": "h_aTJV8LCTvP"
      },
      "execution_count": 21,
      "outputs": []
    },
    {
      "cell_type": "code",
      "source": [
        "#convert labels to tensors\n",
        "test_labels = tf.constant(test_labels)"
      ],
      "metadata": {
        "id": "IORJGcBtRwV_"
      },
      "execution_count": 22,
      "outputs": []
    },
    {
      "cell_type": "code",
      "source": [
        "train_labels"
      ],
      "metadata": {
        "id": "iskx8BinDtCE",
        "colab": {
          "base_uri": "https://localhost:8080/"
        },
        "outputId": "a9e89db8-c42c-4d16-bcb3-9934ecc0da62"
      },
      "execution_count": 23,
      "outputs": [
        {
          "output_type": "execute_result",
          "data": {
            "text/plain": [
              "<tf.Tensor: shape=(4676,), dtype=int64, numpy=array([0, 0, 0, ..., 0, 1, 0])>"
            ]
          },
          "metadata": {},
          "execution_count": 23
        }
      ]
    },
    {
      "cell_type": "code",
      "source": [
        "# new_train_text = train_text.apply(lambda x: arabert_prep.preprocess(x))\n"
      ],
      "metadata": {
        "id": "liZYnw9hu8p_"
      },
      "execution_count": 24,
      "outputs": []
    },
    {
      "cell_type": "code",
      "source": [
        "# new_train_text"
      ],
      "metadata": {
        "id": "tanK0cF-vPgN"
      },
      "execution_count": 25,
      "outputs": []
    },
    {
      "cell_type": "markdown",
      "source": [
        "# cleaning data and preprocessing"
      ],
      "metadata": {
        "id": "17AUQWelv40A"
      }
    },
    {
      "cell_type": "code",
      "source": [
        "# def preprocess(data) :\n",
        "#   data = data.values.tolist() #convert data text to list\n",
        "#   clean_data=[]#cleaning data\n",
        "#   for tweet in data:\n",
        "#         tweet=re.sub(\"(#|@)[a-zA-Z0-9_]*\",\" \",tweet) # remove hash& mention\n",
        "#         tweet=re.sub(\"https?:\\/\\/\\S+\",\" \",tweet)# remove hyperlink\n",
        "#         # tweet=re.sub(\"\\W\",\" \",tweet)\n",
        "#         # tweet=re.sub(\"\\s+$\",\"\",tweet)\n",
        "#         tweet=re.sub(\"(\\xe9|\\362)\",\" \",tweet) # to remove Unicode characters\n",
        "#         tweet =re.sub(\"\\s+[a-zA-Z]\\s+\", \" \", tweet) # to remove single letter\n",
        "#         # tweet = re.sub(\"[^a-zA-Z+']\",\" \",tweet)  # to keep char\n",
        "#         # append clean tweet\n",
        "#         clean_data.append(tweet if tweet not in stop_words  else \" \")\n",
        "\n",
        "#   data_encodings = tokenizer(data, truncation=True,padding=\"max_length\", max_length=64) # Tokenize the data  texts\n",
        "#   data_input_ids = tf.constant(data_encodings['input_ids'])  # Convert input encodings to tensors\n",
        "#   data_attention_mask = tf.constant(data_encodings['attention_mask'])\n",
        "#   return clean_data, data_input_ids , data_attention_mask\n",
        "\n",
        "\n"
      ],
      "metadata": {
        "id": "9ekzogWPlu0l"
      },
      "execution_count": 26,
      "outputs": []
    },
    {
      "cell_type": "code",
      "source": [
        "def tokenization(data) :\n",
        "  data = data.values.tolist() #convert data text to list\n",
        "  data_encodings = tokenizer(data, truncation=True,padding=\"max_length\", max_length=30) # Tokenize the data  texts\n",
        "  data_input_ids = tf.constant(data_encodings['input_ids'])  # Convert input encodings to tensors\n",
        "  data_attention_mask = tf.constant(data_encodings['attention_mask'])\n",
        "  return data_input_ids , data_attention_mask"
      ],
      "metadata": {
        "id": "FIcwpkY1vF4C"
      },
      "execution_count": 27,
      "outputs": []
    },
    {
      "cell_type": "code",
      "source": [
        "train_input_ids,train_attention_mask=tokenization(train_text) #apply tokenization function\n",
        "print(type(train_input_ids))\n"
      ],
      "metadata": {
        "id": "vMG9fOQVpb3P",
        "colab": {
          "base_uri": "https://localhost:8080/"
        },
        "outputId": "df401c6b-0278-4498-bbe0-a3d48ed9c5e0"
      },
      "execution_count": 28,
      "outputs": [
        {
          "output_type": "stream",
          "name": "stdout",
          "text": [
            "<class 'tensorflow.python.framework.ops.EagerTensor'>\n"
          ]
        }
      ]
    },
    {
      "cell_type": "code",
      "source": [
        "train_input_ids"
      ],
      "metadata": {
        "id": "d0RH5dGX2yrc",
        "colab": {
          "base_uri": "https://localhost:8080/"
        },
        "outputId": "aa1ed65c-13d1-4f4e-81eb-44ce5a5d6dd4"
      },
      "execution_count": 29,
      "outputs": [
        {
          "output_type": "execute_result",
          "data": {
            "text/plain": [
              "<tf.Tensor: shape=(4676, 30), dtype=int32, numpy=\n",
              "array([[    2,   902,  1262, ...,     0,     0,     0],\n",
              "       [    2,  3389,  2256, ...,     0,     0,     0],\n",
              "       [    2, 46691,  5608, ...,     0,     0,     0],\n",
              "       ...,\n",
              "       [    2,  1217, 20105, ...,     0,     0,     0],\n",
              "       [    2, 28720,   209, ...,     0,     0,     0],\n",
              "       [    2,  8279,   383, ...,     0,     0,     0]], dtype=int32)>"
            ]
          },
          "metadata": {},
          "execution_count": 29
        }
      ]
    },
    {
      "cell_type": "code",
      "source": [
        "#  to check sparsity in train_input_ids\n",
        "num_zeros_1 = tf.math.count_nonzero(tf.equal(train_input_ids, 0))\n",
        "\n",
        "# Execute the computation\n",
        "num_zeros_value_1 = num_zeros_1.numpy()\n",
        "\n",
        "\n",
        "print(\"Number of zeros:\", num_zeros_value_1)"
      ],
      "metadata": {
        "colab": {
          "base_uri": "https://localhost:8080/"
        },
        "id": "IBiIPIoNvmBJ",
        "outputId": "4ab0effb-a1f6-4d1f-c67b-f89cb08ffbf4"
      },
      "execution_count": 30,
      "outputs": [
        {
          "output_type": "stream",
          "name": "stdout",
          "text": [
            "Number of zeros: 58825\n"
          ]
        }
      ]
    },
    {
      "cell_type": "code",
      "source": [
        "train_attention_mask"
      ],
      "metadata": {
        "id": "u37GSMso2zTN",
        "colab": {
          "base_uri": "https://localhost:8080/"
        },
        "outputId": "eefea3f0-3fa7-47ab-ba98-fbdc550d46ca"
      },
      "execution_count": 31,
      "outputs": [
        {
          "output_type": "execute_result",
          "data": {
            "text/plain": [
              "<tf.Tensor: shape=(4676, 30), dtype=int32, numpy=\n",
              "array([[1, 1, 1, ..., 0, 0, 0],\n",
              "       [1, 1, 1, ..., 0, 0, 0],\n",
              "       [1, 1, 1, ..., 0, 0, 0],\n",
              "       ...,\n",
              "       [1, 1, 1, ..., 0, 0, 0],\n",
              "       [1, 1, 1, ..., 0, 0, 0],\n",
              "       [1, 1, 1, ..., 0, 0, 0]], dtype=int32)>"
            ]
          },
          "metadata": {},
          "execution_count": 31
        }
      ]
    },
    {
      "cell_type": "markdown",
      "source": [
        "# Train model\n"
      ],
      "metadata": {
        "id": "0kDbmm-awCCr"
      }
    },
    {
      "cell_type": "code",
      "source": [
        "# model.compile(optimizer=tf.keras.optimizers.Adam(learning_rate=1e-5),\n",
        "#               loss=tf.keras.losses.SparseCategoricalCrossentropy(from_logits=True),\n",
        "#               metrics=['accuracy'])"
      ],
      "metadata": {
        "id": "gPGh9YT2JoT-"
      },
      "execution_count": 32,
      "outputs": []
    },
    {
      "cell_type": "code",
      "source": [
        "from sklearn.utils import class_weight\n",
        "import numpy as np\n",
        "class_weights = class_weight.compute_class_weight(class_weight='balanced',\n",
        "                                                 classes=np.unique(train_data['Class']),y=train_data['Class']\n",
        "                                                )\n",
        "class_weights"
      ],
      "metadata": {
        "colab": {
          "base_uri": "https://localhost:8080/"
        },
        "id": "ZdMWpvrAv2RI",
        "outputId": "e6de43db-c58f-4ad3-a31f-f4a64d83cc77"
      },
      "execution_count": 33,
      "outputs": [
        {
          "output_type": "execute_result",
          "data": {
            "text/plain": [
              "array([0.53378995, 1.12783406, 4.16755793])"
            ]
          },
          "metadata": {},
          "execution_count": 33
        }
      ]
    },
    {
      "cell_type": "code",
      "source": [
        "dropout_rate = 0.2\n",
        "class_weight = {0: 1,\n",
        "                1: 25,\n",
        "                2: 100\n",
        "                     }  # Specify the dropout rate you want to use\n",
        "\n",
        "# Access the base BERT model within the sequence classification model\n",
        "base_model = model_1.bert\n",
        "\n",
        "# Add dropout layer after the embedding layer\n",
        "base_model.embeddings.dropout = tf.keras.layers.Dropout(dropout_rate)\n",
        "\n",
        "# Add dropout layer after the encoder layers\n",
        "for layer in base_model.encoder.layer:\n",
        "    layer.attention.output_dropout = tf.keras.layers.Dropout(dropout_rate)\n",
        "    layer.output_dropout = tf.keras.layers.Dropout(dropout_rate)\n",
        "\n",
        "# Compile and train the model as usual\n",
        "model_1.compile(optimizer=tf.keras.optimizers.Adam(learning_rate=1e-5), # set learning rate 1e-5\n",
        "              loss=tf.keras.losses.SparseCategoricalCrossentropy(from_logits=True), # use SparseCategoricalCrossentropy as loss function\n",
        "              metrics=['accuracy'])\n",
        "history=model_1.fit([train_input_ids, train_attention_mask], train_labels, batch_size=128, epochs=50,\n",
        "                    validation_split=0.3,shuffle=True,class_weight=class_weight)"
      ],
      "metadata": {
        "colab": {
          "base_uri": "https://localhost:8080/"
        },
        "id": "YIp9MfqowN66",
        "outputId": "d5de8fe6-ebdd-4b8f-8c67-3358b4bc61df"
      },
      "execution_count": 34,
      "outputs": [
        {
          "output_type": "stream",
          "name": "stdout",
          "text": [
            "Epoch 1/50\n",
            "26/26 [==============================] - 93s 1s/step - loss: 13.9056 - accuracy: 0.1913 - val_loss: 2.0549 - val_accuracy: 0.2523\n",
            "Epoch 2/50\n",
            "26/26 [==============================] - 23s 906ms/step - loss: 11.8736 - accuracy: 0.2411 - val_loss: 2.0354 - val_accuracy: 0.2694\n",
            "Epoch 3/50\n",
            "26/26 [==============================] - 24s 928ms/step - loss: 10.7313 - accuracy: 0.2618 - val_loss: 1.9356 - val_accuracy: 0.2979\n",
            "Epoch 4/50\n",
            "26/26 [==============================] - 23s 902ms/step - loss: 9.7905 - accuracy: 0.2838 - val_loss: 1.8730 - val_accuracy: 0.2773\n",
            "Epoch 5/50\n",
            "26/26 [==============================] - 21s 822ms/step - loss: 8.5108 - accuracy: 0.3046 - val_loss: 1.7805 - val_accuracy: 0.3051\n",
            "Epoch 6/50\n",
            "26/26 [==============================] - 24s 926ms/step - loss: 7.3337 - accuracy: 0.3162 - val_loss: 1.7942 - val_accuracy: 0.3100\n",
            "Epoch 7/50\n",
            "26/26 [==============================] - 21s 806ms/step - loss: 5.9038 - accuracy: 0.3346 - val_loss: 1.6563 - val_accuracy: 0.3229\n",
            "Epoch 8/50\n",
            "26/26 [==============================] - 23s 907ms/step - loss: 4.9640 - accuracy: 0.3477 - val_loss: 1.6272 - val_accuracy: 0.3314\n",
            "Epoch 9/50\n",
            "26/26 [==============================] - 23s 905ms/step - loss: 4.1561 - accuracy: 0.3614 - val_loss: 1.6155 - val_accuracy: 0.3435\n",
            "Epoch 10/50\n",
            "26/26 [==============================] - 24s 917ms/step - loss: 3.4100 - accuracy: 0.3813 - val_loss: 1.5200 - val_accuracy: 0.3507\n",
            "Epoch 11/50\n",
            "26/26 [==============================] - 24s 910ms/step - loss: 3.1751 - accuracy: 0.3935 - val_loss: 1.4734 - val_accuracy: 0.3820\n",
            "Epoch 12/50\n",
            "26/26 [==============================] - 24s 920ms/step - loss: 2.9991 - accuracy: 0.4109 - val_loss: 1.5827 - val_accuracy: 0.3892\n",
            "Epoch 13/50\n",
            "26/26 [==============================] - 21s 809ms/step - loss: 2.7787 - accuracy: 0.4265 - val_loss: 1.4662 - val_accuracy: 0.4091\n",
            "Epoch 14/50\n",
            "26/26 [==============================] - 24s 914ms/step - loss: 2.3766 - accuracy: 0.4681 - val_loss: 1.3842 - val_accuracy: 0.4440\n",
            "Epoch 15/50\n",
            "26/26 [==============================] - 24s 916ms/step - loss: 2.1310 - accuracy: 0.4782 - val_loss: 1.3615 - val_accuracy: 0.4718\n",
            "Epoch 16/50\n",
            "26/26 [==============================] - 21s 811ms/step - loss: 1.9639 - accuracy: 0.4971 - val_loss: 1.2978 - val_accuracy: 0.4904\n",
            "Epoch 17/50\n",
            "26/26 [==============================] - 24s 914ms/step - loss: 1.8093 - accuracy: 0.5261 - val_loss: 1.2703 - val_accuracy: 0.5153\n",
            "Epoch 18/50\n",
            "26/26 [==============================] - 24s 914ms/step - loss: 1.6869 - accuracy: 0.5689 - val_loss: 1.2645 - val_accuracy: 0.5481\n",
            "Epoch 19/50\n",
            "26/26 [==============================] - 21s 811ms/step - loss: 1.6212 - accuracy: 0.5830 - val_loss: 1.2472 - val_accuracy: 0.5467\n",
            "Epoch 20/50\n",
            "26/26 [==============================] - 21s 820ms/step - loss: 1.6475 - accuracy: 0.6111 - val_loss: 1.1756 - val_accuracy: 0.5837\n",
            "Epoch 21/50\n",
            "26/26 [==============================] - 21s 809ms/step - loss: 1.4694 - accuracy: 0.6291 - val_loss: 1.1254 - val_accuracy: 0.6023\n",
            "Epoch 22/50\n",
            "26/26 [==============================] - 23s 906ms/step - loss: 1.3287 - accuracy: 0.6734 - val_loss: 1.0704 - val_accuracy: 0.6393\n",
            "Epoch 23/50\n",
            "26/26 [==============================] - 24s 911ms/step - loss: 1.5415 - accuracy: 0.6792 - val_loss: 1.1376 - val_accuracy: 0.6251\n",
            "Epoch 24/50\n",
            "26/26 [==============================] - 21s 810ms/step - loss: 1.2720 - accuracy: 0.7097 - val_loss: 1.1041 - val_accuracy: 0.6515\n",
            "Epoch 25/50\n",
            "26/26 [==============================] - 21s 816ms/step - loss: 1.5692 - accuracy: 0.6981 - val_loss: 1.0896 - val_accuracy: 0.6408\n",
            "Epoch 26/50\n",
            "26/26 [==============================] - 23s 905ms/step - loss: 1.3985 - accuracy: 0.7321 - val_loss: 1.0682 - val_accuracy: 0.6515\n",
            "Epoch 27/50\n",
            "26/26 [==============================] - 21s 809ms/step - loss: 1.2042 - accuracy: 0.7183 - val_loss: 1.1291 - val_accuracy: 0.6408\n",
            "Epoch 28/50\n",
            "26/26 [==============================] - 24s 915ms/step - loss: 0.9861 - accuracy: 0.7657 - val_loss: 1.0001 - val_accuracy: 0.6842\n",
            "Epoch 29/50\n",
            "26/26 [==============================] - 23s 906ms/step - loss: 1.2071 - accuracy: 0.7736 - val_loss: 1.0678 - val_accuracy: 0.6821\n",
            "Epoch 30/50\n",
            "26/26 [==============================] - 24s 908ms/step - loss: 1.0760 - accuracy: 0.7675 - val_loss: 0.8883 - val_accuracy: 0.7170\n",
            "Epoch 31/50\n",
            "26/26 [==============================] - 21s 817ms/step - loss: 0.8874 - accuracy: 0.8026 - val_loss: 1.0621 - val_accuracy: 0.6871\n",
            "Epoch 32/50\n",
            "26/26 [==============================] - 23s 909ms/step - loss: 0.9612 - accuracy: 0.8158 - val_loss: 1.0229 - val_accuracy: 0.6971\n",
            "Epoch 33/50\n",
            "26/26 [==============================] - 23s 905ms/step - loss: 1.0844 - accuracy: 0.8057 - val_loss: 0.8880 - val_accuracy: 0.7349\n",
            "Epoch 34/50\n",
            "26/26 [==============================] - 23s 907ms/step - loss: 0.7807 - accuracy: 0.8396 - val_loss: 1.0213 - val_accuracy: 0.7099\n",
            "Epoch 35/50\n",
            "26/26 [==============================] - 24s 914ms/step - loss: 0.7274 - accuracy: 0.8420 - val_loss: 1.0303 - val_accuracy: 0.7099\n",
            "Epoch 36/50\n",
            "26/26 [==============================] - 21s 811ms/step - loss: 1.0645 - accuracy: 0.8326 - val_loss: 1.0584 - val_accuracy: 0.7092\n",
            "Epoch 37/50\n",
            "26/26 [==============================] - 24s 915ms/step - loss: 0.8375 - accuracy: 0.8460 - val_loss: 0.9841 - val_accuracy: 0.7185\n",
            "Epoch 38/50\n",
            "26/26 [==============================] - 21s 809ms/step - loss: 0.7380 - accuracy: 0.8653 - val_loss: 0.9326 - val_accuracy: 0.7313\n",
            "Epoch 39/50\n",
            "26/26 [==============================] - 23s 907ms/step - loss: 0.7348 - accuracy: 0.8512 - val_loss: 0.9666 - val_accuracy: 0.7277\n",
            "Epoch 40/50\n",
            "26/26 [==============================] - 23s 905ms/step - loss: 0.6443 - accuracy: 0.8647 - val_loss: 0.8638 - val_accuracy: 0.7491\n",
            "Epoch 41/50\n",
            "26/26 [==============================] - 23s 906ms/step - loss: 0.5403 - accuracy: 0.8830 - val_loss: 0.8950 - val_accuracy: 0.7520\n",
            "Epoch 42/50\n",
            "26/26 [==============================] - 21s 811ms/step - loss: 0.5094 - accuracy: 0.9007 - val_loss: 0.9271 - val_accuracy: 0.7520\n",
            "Epoch 43/50\n",
            "26/26 [==============================] - 24s 916ms/step - loss: 0.5246 - accuracy: 0.8909 - val_loss: 1.0955 - val_accuracy: 0.7135\n",
            "Epoch 44/50\n",
            "26/26 [==============================] - 23s 908ms/step - loss: 0.5513 - accuracy: 0.8879 - val_loss: 0.8924 - val_accuracy: 0.7591\n",
            "Epoch 45/50\n",
            "26/26 [==============================] - 21s 814ms/step - loss: 0.4948 - accuracy: 0.8973 - val_loss: 0.9477 - val_accuracy: 0.7498\n",
            "Epoch 46/50\n",
            "26/26 [==============================] - 21s 812ms/step - loss: 0.4622 - accuracy: 0.9068 - val_loss: 0.8947 - val_accuracy: 0.7612\n",
            "Epoch 47/50\n",
            "26/26 [==============================] - 21s 809ms/step - loss: 0.4456 - accuracy: 0.9077 - val_loss: 0.9415 - val_accuracy: 0.7562\n",
            "Epoch 48/50\n",
            "26/26 [==============================] - 24s 915ms/step - loss: 0.3859 - accuracy: 0.9239 - val_loss: 0.9427 - val_accuracy: 0.7534\n",
            "Epoch 49/50\n",
            "26/26 [==============================] - 23s 902ms/step - loss: 0.4755 - accuracy: 0.9062 - val_loss: 0.9538 - val_accuracy: 0.7605\n",
            "Epoch 50/50\n",
            "26/26 [==============================] - 23s 908ms/step - loss: 0.3699 - accuracy: 0.9328 - val_loss: 0.8475 - val_accuracy: 0.7783\n"
          ]
        }
      ]
    },
    {
      "cell_type": "code",
      "source": [
        "# Train the model\n",
        "# history = model.fit([train_input_ids, train_attention_mask], train_labels, batch_size=64, epochs=10,\n",
        "#                     validation_split=0.3,shuffle=True)"
      ],
      "metadata": {
        "id": "MFtw-358KOIZ"
      },
      "execution_count": 35,
      "outputs": []
    },
    {
      "cell_type": "code",
      "source": [
        "# history = model.fit([train_input_ids, train_attention_mask], train_labels, class_weight={0:1, 1:3},batch_size=128, epochs=10,\n",
        "#                     validation_split=0.3 ,shuffle=True)"
      ],
      "metadata": {
        "id": "rO_qOf8YJVmb"
      },
      "execution_count": 36,
      "outputs": []
    },
    {
      "cell_type": "code",
      "source": [
        "model_1.summary()"
      ],
      "metadata": {
        "id": "TLo8y_ipGPk3",
        "colab": {
          "base_uri": "https://localhost:8080/"
        },
        "outputId": "321c2879-df1e-4440-ca36-d919a3d6b690"
      },
      "execution_count": 37,
      "outputs": [
        {
          "output_type": "stream",
          "name": "stdout",
          "text": [
            "Model: \"tf_bert_for_sequence_classification\"\n",
            "_________________________________________________________________\n",
            " Layer (type)                Output Shape              Param #   \n",
            "=================================================================\n",
            " bert (TFBertMainLayer)      multiple                  135193344 \n",
            "                                                                 \n",
            " dropout_37 (Dropout)        multiple                  0         \n",
            "                                                                 \n",
            " classifier (Dense)          multiple                  2307      \n",
            "                                                                 \n",
            "=================================================================\n",
            "Total params: 135195651 (515.73 MB)\n",
            "Trainable params: 135195651 (515.73 MB)\n",
            "Non-trainable params: 0 (0.00 Byte)\n",
            "_________________________________________________________________\n"
          ]
        }
      ]
    },
    {
      "cell_type": "code",
      "source": [
        "\n",
        "import matplotlib.pyplot as plt\n",
        "\n",
        "fig, ax = plt.subplots(1, 2, figsize=(10, 3))\n",
        "\n",
        "for i, j in enumerate(['accuracy', 'loss']):\n",
        "    ax[i].plot(history.history[j])\n",
        "    ax[i].plot(history.history['val_' + j])\n",
        "    ax[i].set_xlabel('epochs')\n",
        "    ax[i].set_ylabel(j)\n",
        "    ax[i].legend(['train', 'val'])\n",
        "\n",
        "ax[0].set_title('accuracy')\n",
        "ax[1].set_title('loss')"
      ],
      "metadata": {
        "id": "-HPFKpODYIw_",
        "colab": {
          "base_uri": "https://localhost:8080/",
          "height": 350
        },
        "outputId": "c3f63ccc-4a9c-4181-967d-ca3e2c5b3aa4"
      },
      "execution_count": 38,
      "outputs": [
        {
          "output_type": "execute_result",
          "data": {
            "text/plain": [
              "Text(0.5, 1.0, 'loss')"
            ]
          },
          "metadata": {},
          "execution_count": 38
        },
        {
          "output_type": "display_data",
          "data": {
            "text/plain": [
              "<Figure size 1000x300 with 2 Axes>"
            ],
            "image/png": "[encoded data removed]"
          },
          "metadata": {}
        }
      ]
    },
    {
      "cell_type": "markdown",
      "source": [
        "#Test model"
      ],
      "metadata": {
        "id": "iE9HueIxwjro"
      }
    },
    {
      "cell_type": "code",
      "source": [
        "# new_test_text=test_text.apply(lambda y: arabert_prep.preprocess(y))\n",
        "test_input_ids,test_attention_mask=tokenization(test_text)\n",
        "predictions = model_1.predict([test_input_ids, test_attention_mask])\n",
        "predicted_labels = tf.argmax(predictions.logits, axis=1)"
      ],
      "metadata": {
        "colab": {
          "base_uri": "https://localhost:8080/"
        },
        "id": "Z31oILzZwmhj",
        "outputId": "174a67d5-ba75-4804-c826-4e3339def7d3"
      },
      "execution_count": 39,
      "outputs": [
        {
          "output_type": "stream",
          "name": "stdout",
          "text": [
            "37/37 [==============================] - 7s 74ms/step\n"
          ]
        }
      ]
    },
    {
      "cell_type": "code",
      "source": [
        "test_labels=test_data['Class']\n",
        "#convert labels to tensors\n",
        "test_labels = tf.constant(test_labels)"
      ],
      "metadata": {
        "id": "uJL9M5EIw9t0"
      },
      "execution_count": 40,
      "outputs": []
    },
    {
      "cell_type": "code",
      "source": [
        "from sklearn.metrics import classification_report\n",
        "\n",
        "y_true = test_labels # True labels of your test dataset\n",
        "y_pred = predicted_labels # Predicted labels from your fine-tuned model\n",
        "\n",
        "\n",
        "# Calculate the evaluation metrics\n",
        "classification_report = classification_report(y_true, y_pred)\n",
        "print(classification_report)"
      ],
      "metadata": {
        "colab": {
          "base_uri": "https://localhost:8080/"
        },
        "id": "iVsMA2pwxJst",
        "outputId": "97d8dad9-0f81-4266-f00d-535116b2ceef"
      },
      "execution_count": 41,
      "outputs": [
        {
          "output_type": "stream",
          "name": "stdout",
          "text": [
            "              precision    recall  f1-score   support\n",
            "\n",
            "           0       0.90      0.86      0.88       730\n",
            "           1       0.70      0.74      0.72       346\n",
            "           2       0.50      0.57      0.53        94\n",
            "\n",
            "    accuracy                           0.80      1170\n",
            "   macro avg       0.70      0.72      0.71      1170\n",
            "weighted avg       0.81      0.80      0.80      1170\n",
            "\n"
          ]
        }
      ]
    },
    {
      "cell_type": "code",
      "source": [
        "from sklearn.metrics import precision_score, recall_score, f1_score\n",
        "import numpy as np\n",
        "# predictions = model_1.predict([test_input_ids, test_attention_mask])\n",
        "# predicted_labels = tf.argmax(predictions.logits, axis=1)\n",
        "precision = precision_score(test_labels, predicted_labels, average='weighted')\n",
        "recall = recall_score(test_labels, predicted_labels, average='weighted')\n",
        "f1 = f1_score(test_labels, predicted_labels, average='weighted')\n",
        "\n",
        "print(\"Precision:\", precision)\n",
        "print(\"Recall:\", recall)\n",
        "print(\"F1 Score:\", f1)"
      ],
      "metadata": {
        "colab": {
          "base_uri": "https://localhost:8080/"
        },
        "id": "wJqyvarMajxV",
        "outputId": "6e5fc728-6345-4d63-f0f4-dfb3b86a9718"
      },
      "execution_count": 42,
      "outputs": [
        {
          "output_type": "stream",
          "name": "stdout",
          "text": [
            "Precision: 0.8092923848606981\n",
            "Recall: 0.8008547008547009\n",
            "F1 Score: 0.8043746089026838\n"
          ]
        }
      ]
    },
    {
      "cell_type": "code",
      "source": [
        "predicted_labels"
      ],
      "metadata": {
        "colab": {
          "base_uri": "https://localhost:8080/"
        },
        "id": "Bj7UwJSLaMfE",
        "outputId": "7a0213bf-28f8-4982-b10d-df40f72cee8e"
      },
      "execution_count": 43,
      "outputs": [
        {
          "output_type": "execute_result",
          "data": {
            "text/plain": [
              "<tf.Tensor: shape=(1170,), dtype=int64, numpy=array([0, 2, 2, ..., 1, 1, 0])>"
            ]
          },
          "metadata": {},
          "execution_count": 43
        }
      ]
    },
    {
      "cell_type": "code",
      "source": [
        "test_labels"
      ],
      "metadata": {
        "colab": {
          "base_uri": "https://localhost:8080/"
        },
        "id": "j40f-ctVaRuO",
        "outputId": "636cfee3-9713-4ad5-b8b9-42301b5513f7"
      },
      "execution_count": 44,
      "outputs": [
        {
          "output_type": "execute_result",
          "data": {
            "text/plain": [
              "<tf.Tensor: shape=(1170,), dtype=int64, numpy=array([0, 2, 2, ..., 1, 1, 0])>"
            ]
          },
          "metadata": {},
          "execution_count": 44
        }
      ]
    }
  ]
}